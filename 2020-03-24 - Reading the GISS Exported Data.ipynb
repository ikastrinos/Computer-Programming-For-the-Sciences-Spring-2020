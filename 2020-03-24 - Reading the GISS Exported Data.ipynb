{
 "cells": [
  {
   "cell_type": "code",
   "execution_count": 1,
   "metadata": {},
   "outputs": [
    {
     "name": "stdout",
     "output_type": "stream",
     "text": [
      "Populating the interactive namespace from numpy and matplotlib\n"
     ]
    }
   ],
   "source": [
    "%pylab inline"
   ]
  },
  {
   "cell_type": "code",
   "execution_count": 2,
   "metadata": {},
   "outputs": [
    {
     "name": "stdout",
     "output_type": "stream",
     "text": [
      "Version 0.0.2\n"
     ]
    }
   ],
   "source": [
    "from sci378 import *"
   ]
  },
  {
   "cell_type": "code",
   "execution_count": 3,
   "metadata": {},
   "outputs": [],
   "source": [
    "data=pd.read_csv(\"data/station_temperature_data.csv.gz\",index_col=False)"
   ]
  },
  {
   "cell_type": "code",
   "execution_count": 4,
   "metadata": {},
   "outputs": [],
   "source": [
    "info=pd.read_excel(\"data/station_info.xlsx\")"
   ]
  },
  {
   "cell_type": "code",
   "execution_count": 5,
   "metadata": {},
   "outputs": [
    {
     "data": {
      "text/html": [
       "<div>\n",
       "<style scoped>\n",
       "    .dataframe tbody tr th:only-of-type {\n",
       "        vertical-align: middle;\n",
       "    }\n",
       "\n",
       "    .dataframe tbody tr th {\n",
       "        vertical-align: top;\n",
       "    }\n",
       "\n",
       "    .dataframe thead th {\n",
       "        text-align: right;\n",
       "    }\n",
       "</style>\n",
       "<table border=\"1\" class=\"dataframe\">\n",
       "  <thead>\n",
       "    <tr style=\"text-align: right;\">\n",
       "      <th></th>\n",
       "      <th>Unnamed: 0</th>\n",
       "      <th>ID</th>\n",
       "      <th>Station</th>\n",
       "      <th>Latitude</th>\n",
       "      <th>Longitude</th>\n",
       "      <th>Brightness</th>\n",
       "      <th>Elevation</th>\n",
       "    </tr>\n",
       "  </thead>\n",
       "  <tbody>\n",
       "    <tr>\n",
       "      <th>0</th>\n",
       "      <td>0</td>\n",
       "      <td>ACW00011604</td>\n",
       "      <td>SAVE</td>\n",
       "      <td>57.7667</td>\n",
       "      <td>11.8667</td>\n",
       "      <td>45.0</td>\n",
       "      <td>18.0</td>\n",
       "    </tr>\n",
       "    <tr>\n",
       "      <th>1</th>\n",
       "      <td>1</td>\n",
       "      <td>AE000041196</td>\n",
       "      <td>SHARJAH_INTER_AIRP</td>\n",
       "      <td>25.3330</td>\n",
       "      <td>55.5170</td>\n",
       "      <td>39.0</td>\n",
       "      <td>34.0</td>\n",
       "    </tr>\n",
       "    <tr>\n",
       "      <th>2</th>\n",
       "      <td>2</td>\n",
       "      <td>AEM00041184</td>\n",
       "      <td>RAS_AL_KHAIMAH_INTE</td>\n",
       "      <td>25.6170</td>\n",
       "      <td>55.9330</td>\n",
       "      <td>17.0</td>\n",
       "      <td>31.0</td>\n",
       "    </tr>\n",
       "    <tr>\n",
       "      <th>3</th>\n",
       "      <td>3</td>\n",
       "      <td>AEM00041194</td>\n",
       "      <td>DUBAI_INTL</td>\n",
       "      <td>25.2550</td>\n",
       "      <td>55.3640</td>\n",
       "      <td>104.0</td>\n",
       "      <td>10.4</td>\n",
       "    </tr>\n",
       "    <tr>\n",
       "      <th>4</th>\n",
       "      <td>4</td>\n",
       "      <td>AEM00041216</td>\n",
       "      <td>ABU_DHABI_BATEEN_AIR</td>\n",
       "      <td>24.4300</td>\n",
       "      <td>54.4700</td>\n",
       "      <td>114.0</td>\n",
       "      <td>3.0</td>\n",
       "    </tr>\n",
       "  </tbody>\n",
       "</table>\n",
       "</div>"
      ],
      "text/plain": [
       "   Unnamed: 0           ID               Station  Latitude  Longitude  \\\n",
       "0           0  ACW00011604                  SAVE   57.7667    11.8667   \n",
       "1           1  AE000041196    SHARJAH_INTER_AIRP   25.3330    55.5170   \n",
       "2           2  AEM00041184   RAS_AL_KHAIMAH_INTE   25.6170    55.9330   \n",
       "3           3  AEM00041194            DUBAI_INTL   25.2550    55.3640   \n",
       "4           4  AEM00041216  ABU_DHABI_BATEEN_AIR   24.4300    54.4700   \n",
       "\n",
       "   Brightness  Elevation  \n",
       "0        45.0       18.0  \n",
       "1        39.0       34.0  \n",
       "2        17.0       31.0  \n",
       "3       104.0       10.4  \n",
       "4       114.0        3.0  "
      ]
     },
     "execution_count": 5,
     "metadata": {},
     "output_type": "execute_result"
    }
   ],
   "source": [
    "info.head()"
   ]
  },
  {
   "cell_type": "code",
   "execution_count": 6,
   "metadata": {},
   "outputs": [
    {
     "data": {
      "text/html": [
       "<div>\n",
       "<style scoped>\n",
       "    .dataframe tbody tr th:only-of-type {\n",
       "        vertical-align: middle;\n",
       "    }\n",
       "\n",
       "    .dataframe tbody tr th {\n",
       "        vertical-align: top;\n",
       "    }\n",
       "\n",
       "    .dataframe thead th {\n",
       "        text-align: right;\n",
       "    }\n",
       "</style>\n",
       "<table border=\"1\" class=\"dataframe\">\n",
       "  <thead>\n",
       "    <tr style=\"text-align: right;\">\n",
       "      <th></th>\n",
       "      <th>Unnamed: 0</th>\n",
       "      <th>time</th>\n",
       "      <th>SAVE</th>\n",
       "      <th>SHARJAH_INTER_AIRP</th>\n",
       "      <th>RAS_AL_KHAIMAH_INTE</th>\n",
       "      <th>DUBAI_INTL</th>\n",
       "      <th>ABU_DHABI_BATEEN_AIR</th>\n",
       "      <th>ABU_DHABI_INTL</th>\n",
       "      <th>AL_AIN_INTL</th>\n",
       "      <th>NORTH_SALANG</th>\n",
       "      <th>...</th>\n",
       "      <th>BULAWAYO_GOETZ_OBS</th>\n",
       "      <th>BULAWAYO_AIRPORT</th>\n",
       "      <th>WEST_NICHOLSON</th>\n",
       "      <th>MASVINGO</th>\n",
       "      <th>BUFFALO_RANGE</th>\n",
       "      <th>CHIPINGE</th>\n",
       "      <th>BEITBRIDGE</th>\n",
       "      <th>HARARE_BELVEDERE</th>\n",
       "      <th>GRAND_REEF</th>\n",
       "      <th>GWELO</th>\n",
       "    </tr>\n",
       "  </thead>\n",
       "  <tbody>\n",
       "    <tr>\n",
       "      <th>136</th>\n",
       "      <td>136</td>\n",
       "      <td>2016</td>\n",
       "      <td>28.198333</td>\n",
       "      <td>27.810000</td>\n",
       "      <td>NaN</td>\n",
       "      <td>29.545833</td>\n",
       "      <td>NaN</td>\n",
       "      <td>NaN</td>\n",
       "      <td>28.935000</td>\n",
       "      <td>NaN</td>\n",
       "      <td>...</td>\n",
       "      <td>20.777273</td>\n",
       "      <td>NaN</td>\n",
       "      <td>NaN</td>\n",
       "      <td>20.6625</td>\n",
       "      <td>NaN</td>\n",
       "      <td>20.178333</td>\n",
       "      <td>NaN</td>\n",
       "      <td>NaN</td>\n",
       "      <td>NaN</td>\n",
       "      <td>NaN</td>\n",
       "    </tr>\n",
       "    <tr>\n",
       "      <th>137</th>\n",
       "      <td>137</td>\n",
       "      <td>2017</td>\n",
       "      <td>28.298333</td>\n",
       "      <td>28.335000</td>\n",
       "      <td>NaN</td>\n",
       "      <td>30.027500</td>\n",
       "      <td>NaN</td>\n",
       "      <td>31.6730</td>\n",
       "      <td>29.655000</td>\n",
       "      <td>NaN</td>\n",
       "      <td>...</td>\n",
       "      <td>18.564286</td>\n",
       "      <td>NaN</td>\n",
       "      <td>NaN</td>\n",
       "      <td>19.0200</td>\n",
       "      <td>NaN</td>\n",
       "      <td>NaN</td>\n",
       "      <td>NaN</td>\n",
       "      <td>NaN</td>\n",
       "      <td>NaN</td>\n",
       "      <td>NaN</td>\n",
       "    </tr>\n",
       "    <tr>\n",
       "      <th>138</th>\n",
       "      <td>138</td>\n",
       "      <td>2018</td>\n",
       "      <td>28.081667</td>\n",
       "      <td>28.904545</td>\n",
       "      <td>NaN</td>\n",
       "      <td>30.098182</td>\n",
       "      <td>NaN</td>\n",
       "      <td>29.7925</td>\n",
       "      <td>29.965455</td>\n",
       "      <td>NaN</td>\n",
       "      <td>...</td>\n",
       "      <td>NaN</td>\n",
       "      <td>NaN</td>\n",
       "      <td>NaN</td>\n",
       "      <td>NaN</td>\n",
       "      <td>NaN</td>\n",
       "      <td>NaN</td>\n",
       "      <td>NaN</td>\n",
       "      <td>NaN</td>\n",
       "      <td>NaN</td>\n",
       "      <td>NaN</td>\n",
       "    </tr>\n",
       "    <tr>\n",
       "      <th>139</th>\n",
       "      <td>139</td>\n",
       "      <td>2019</td>\n",
       "      <td>28.266667</td>\n",
       "      <td>28.251667</td>\n",
       "      <td>NaN</td>\n",
       "      <td>29.585833</td>\n",
       "      <td>NaN</td>\n",
       "      <td>29.4000</td>\n",
       "      <td>29.061667</td>\n",
       "      <td>NaN</td>\n",
       "      <td>...</td>\n",
       "      <td>NaN</td>\n",
       "      <td>NaN</td>\n",
       "      <td>NaN</td>\n",
       "      <td>NaN</td>\n",
       "      <td>NaN</td>\n",
       "      <td>NaN</td>\n",
       "      <td>NaN</td>\n",
       "      <td>NaN</td>\n",
       "      <td>NaN</td>\n",
       "      <td>NaN</td>\n",
       "    </tr>\n",
       "    <tr>\n",
       "      <th>140</th>\n",
       "      <td>140</td>\n",
       "      <td>2020</td>\n",
       "      <td>29.550000</td>\n",
       "      <td>19.730000</td>\n",
       "      <td>NaN</td>\n",
       "      <td>21.280000</td>\n",
       "      <td>NaN</td>\n",
       "      <td>20.5750</td>\n",
       "      <td>19.460000</td>\n",
       "      <td>NaN</td>\n",
       "      <td>...</td>\n",
       "      <td>NaN</td>\n",
       "      <td>NaN</td>\n",
       "      <td>NaN</td>\n",
       "      <td>NaN</td>\n",
       "      <td>NaN</td>\n",
       "      <td>NaN</td>\n",
       "      <td>NaN</td>\n",
       "      <td>NaN</td>\n",
       "      <td>NaN</td>\n",
       "      <td>NaN</td>\n",
       "    </tr>\n",
       "  </tbody>\n",
       "</table>\n",
       "<p>5 rows × 25864 columns</p>\n",
       "</div>"
      ],
      "text/plain": [
       "     Unnamed: 0  time       SAVE  SHARJAH_INTER_AIRP  RAS_AL_KHAIMAH_INTE  \\\n",
       "136         136  2016  28.198333           27.810000                  NaN   \n",
       "137         137  2017  28.298333           28.335000                  NaN   \n",
       "138         138  2018  28.081667           28.904545                  NaN   \n",
       "139         139  2019  28.266667           28.251667                  NaN   \n",
       "140         140  2020  29.550000           19.730000                  NaN   \n",
       "\n",
       "     DUBAI_INTL  ABU_DHABI_BATEEN_AIR  ABU_DHABI_INTL  AL_AIN_INTL  \\\n",
       "136   29.545833                   NaN             NaN    28.935000   \n",
       "137   30.027500                   NaN         31.6730    29.655000   \n",
       "138   30.098182                   NaN         29.7925    29.965455   \n",
       "139   29.585833                   NaN         29.4000    29.061667   \n",
       "140   21.280000                   NaN         20.5750    19.460000   \n",
       "\n",
       "     NORTH_SALANG  ...  BULAWAYO_GOETZ_OBS  BULAWAYO_AIRPORT  WEST_NICHOLSON  \\\n",
       "136           NaN  ...           20.777273               NaN             NaN   \n",
       "137           NaN  ...           18.564286               NaN             NaN   \n",
       "138           NaN  ...                 NaN               NaN             NaN   \n",
       "139           NaN  ...                 NaN               NaN             NaN   \n",
       "140           NaN  ...                 NaN               NaN             NaN   \n",
       "\n",
       "     MASVINGO  BUFFALO_RANGE   CHIPINGE  BEITBRIDGE  HARARE_BELVEDERE  \\\n",
       "136   20.6625            NaN  20.178333         NaN               NaN   \n",
       "137   19.0200            NaN        NaN         NaN               NaN   \n",
       "138       NaN            NaN        NaN         NaN               NaN   \n",
       "139       NaN            NaN        NaN         NaN               NaN   \n",
       "140       NaN            NaN        NaN         NaN               NaN   \n",
       "\n",
       "     GRAND_REEF  GWELO  \n",
       "136         NaN    NaN  \n",
       "137         NaN    NaN  \n",
       "138         NaN    NaN  \n",
       "139         NaN    NaN  \n",
       "140         NaN    NaN  \n",
       "\n",
       "[5 rows x 25864 columns]"
      ]
     },
     "execution_count": 6,
     "metadata": {},
     "output_type": "execute_result"
    }
   ],
   "source": [
    "data.tail()"
   ]
  },
  {
   "cell_type": "code",
   "execution_count": 33,
   "metadata": {},
   "outputs": [
    {
     "data": {
      "text/plain": [
       "Text(0.5, 1.0, 'SAVE')"
      ]
     },
     "execution_count": 33,
     "metadata": {},
     "output_type": "execute_result"
    },
    {
     "data": {
      "image/png": "[encoded data removed]",
      "text/plain": [
       "<Figure size 864x576 with 1 Axes>"
      ]
     },
     "metadata": {
      "needs_background": "light"
     },
     "output_type": "display_data"
    }
   ],
   "source": [
    "station='SAVE'\n",
    "x=data['time']\n",
    "y=data[station]\n",
    "plot(x,y,'-o')\n",
    "title(station)"
   ]
  },
  {
   "cell_type": "code",
   "execution_count": 35,
   "metadata": {},
   "outputs": [
    {
     "data": {
      "text/plain": [
       "(0      1880\n",
       " 1      1881\n",
       " 2      1882\n",
       " 3      1883\n",
       " 4      1884\n",
       "        ... \n",
       " 136    2016\n",
       " 137    2017\n",
       " 138    2018\n",
       " 139    2019\n",
       " 140    2020\n",
       " Name: time, Length: 141, dtype: int64,\n",
       " 0            NaN\n",
       " 1            NaN\n",
       " 2            NaN\n",
       " 3            NaN\n",
       " 4            NaN\n",
       "          ...    \n",
       " 136    28.198333\n",
       " 137    28.298333\n",
       " 138    28.081667\n",
       " 139    28.266667\n",
       " 140    29.550000\n",
       " Name: SAVE, Length: 141, dtype: float64)"
      ]
     },
     "execution_count": 35,
     "metadata": {},
     "output_type": "execute_result"
    }
   ],
   "source": [
    "x,y   # lots of nans!"
   ]
  },
  {
   "cell_type": "code",
   "execution_count": 36,
   "metadata": {},
   "outputs": [],
   "source": [
    "def get_xy(data,station):\n",
    "    x,y=array(data[['time',station]].dropna()).T    \n",
    "    return x,y"
   ]
  },
  {
   "cell_type": "code",
   "execution_count": 37,
   "metadata": {},
   "outputs": [],
   "source": [
    "x,y=get_xy(data,station)"
   ]
  },
  {
   "cell_type": "code",
   "execution_count": 38,
   "metadata": {},
   "outputs": [
    {
     "data": {
      "text/html": [
       "<table class=\"simpletable\">\n",
       "<caption>OLS Regression Results</caption>\n",
       "<tr>\n",
       "  <th>Dep. Variable:</th>            <td>y</td>        <th>  R-squared:         </th> <td>   0.394</td>\n",
       "</tr>\n",
       "<tr>\n",
       "  <th>Model:</th>                   <td>OLS</td>       <th>  Adj. R-squared:    </th> <td>   0.381</td>\n",
       "</tr>\n",
       "<tr>\n",
       "  <th>Method:</th>             <td>Least Squares</td>  <th>  F-statistic:       </th> <td>   29.29</td>\n",
       "</tr>\n",
       "<tr>\n",
       "  <th>Date:</th>             <td>Tue, 24 Mar 2020</td> <th>  Prob (F-statistic):</th> <td>2.31e-06</td>\n",
       "</tr>\n",
       "<tr>\n",
       "  <th>Time:</th>                 <td>11:45:46</td>     <th>  Log-Likelihood:    </th> <td> -27.648</td>\n",
       "</tr>\n",
       "<tr>\n",
       "  <th>No. Observations:</th>      <td>    47</td>      <th>  AIC:               </th> <td>   59.30</td>\n",
       "</tr>\n",
       "<tr>\n",
       "  <th>Df Residuals:</th>          <td>    45</td>      <th>  BIC:               </th> <td>   63.00</td>\n",
       "</tr>\n",
       "<tr>\n",
       "  <th>Df Model:</th>              <td>     1</td>      <th>                     </th>     <td> </td>   \n",
       "</tr>\n",
       "<tr>\n",
       "  <th>Covariance Type:</th>      <td>nonrobust</td>    <th>                     </th>     <td> </td>   \n",
       "</tr>\n",
       "</table>\n",
       "<table class=\"simpletable\">\n",
       "<tr>\n",
       "      <td></td>         <th>coef</th>     <th>std err</th>      <th>t</th>      <th>P>|t|</th>  <th>[0.025</th>    <th>0.975]</th>  \n",
       "</tr>\n",
       "<tr>\n",
       "  <th>Intercept</th> <td>  -22.2808</td> <td>    9.203</td> <td>   -2.421</td> <td> 0.020</td> <td>  -40.816</td> <td>   -3.745</td>\n",
       "</tr>\n",
       "<tr>\n",
       "  <th>x</th>         <td>    0.0250</td> <td>    0.005</td> <td>    5.412</td> <td> 0.000</td> <td>    0.016</td> <td>    0.034</td>\n",
       "</tr>\n",
       "</table>\n",
       "<table class=\"simpletable\">\n",
       "<tr>\n",
       "  <th>Omnibus:</th>       <td>11.762</td> <th>  Durbin-Watson:     </th> <td>   1.808</td>\n",
       "</tr>\n",
       "<tr>\n",
       "  <th>Prob(Omnibus):</th> <td> 0.003</td> <th>  Jarque-Bera (JB):  </th> <td>  12.954</td>\n",
       "</tr>\n",
       "<tr>\n",
       "  <th>Skew:</th>          <td> 0.925</td> <th>  Prob(JB):          </th> <td> 0.00154</td>\n",
       "</tr>\n",
       "<tr>\n",
       "  <th>Kurtosis:</th>      <td> 4.787</td> <th>  Cond. No.          </th> <td>2.83e+05</td>\n",
       "</tr>\n",
       "</table><br/><br/>Warnings:<br/>[1] Standard Errors assume that the covariance matrix of the errors is correctly specified.<br/>[2] The condition number is large, 2.83e+05. This might indicate that there are<br/>strong multicollinearity or other numerical problems."
      ],
      "text/plain": [
       "<class 'statsmodels.iolib.summary.Summary'>\n",
       "\"\"\"\n",
       "                            OLS Regression Results                            \n",
       "==============================================================================\n",
       "Dep. Variable:                      y   R-squared:                       0.394\n",
       "Model:                            OLS   Adj. R-squared:                  0.381\n",
       "Method:                 Least Squares   F-statistic:                     29.29\n",
       "Date:                Tue, 24 Mar 2020   Prob (F-statistic):           2.31e-06\n",
       "Time:                        11:45:46   Log-Likelihood:                -27.648\n",
       "No. Observations:                  47   AIC:                             59.30\n",
       "Df Residuals:                      45   BIC:                             63.00\n",
       "Df Model:                           1                                         \n",
       "Covariance Type:            nonrobust                                         \n",
       "==============================================================================\n",
       "                 coef    std err          t      P>|t|      [0.025      0.975]\n",
       "------------------------------------------------------------------------------\n",
       "Intercept    -22.2808      9.203     -2.421      0.020     -40.816      -3.745\n",
       "x              0.0250      0.005      5.412      0.000       0.016       0.034\n",
       "==============================================================================\n",
       "Omnibus:                       11.762   Durbin-Watson:                   1.808\n",
       "Prob(Omnibus):                  0.003   Jarque-Bera (JB):               12.954\n",
       "Skew:                           0.925   Prob(JB):                      0.00154\n",
       "Kurtosis:                       4.787   Cond. No.                     2.83e+05\n",
       "==============================================================================\n",
       "\n",
       "Warnings:\n",
       "[1] Standard Errors assume that the covariance matrix of the errors is correctly specified.\n",
       "[2] The condition number is large, 2.83e+05. This might indicate that there are\n",
       "strong multicollinearity or other numerical problems.\n",
       "\"\"\""
      ]
     },
     "execution_count": 38,
     "metadata": {},
     "output_type": "execute_result"
    }
   ],
   "source": [
    "model=ols('y ~ x', data={'y':y,'x':x})\n",
    "results=model.fit()\n",
    "results.summary()\n"
   ]
  },
  {
   "cell_type": "code",
   "execution_count": 46,
   "metadata": {},
   "outputs": [
    {
     "data": {
      "text/plain": [
       "[<matplotlib.lines.Line2D at 0x7f88e0903750>]"
      ]
     },
     "execution_count": 46,
     "metadata": {},
     "output_type": "execute_result"
    },
    {
     "data": {
      "image/png": "[encoded data removed]",
      "text/plain": [
       "<Figure size 864x576 with 1 Axes>"
      ]
     },
     "metadata": {
      "needs_background": "light"
     },
     "output_type": "display_data"
    }
   ],
   "source": [
    "xx=linspace(min(x)-10,max(x)+10,20)\n",
    "yy=results.predict({'x':xx})\n",
    "\n",
    "m=results.params['x']\n",
    "mσ=results.bse['x']\n",
    "\n",
    "b=results.params['Intercept']\n",
    "\n",
    "plot(x,y,'-o')\n",
    "title(station+\" : y=%.3g (+/- %.4g) x + %.3g\" % (m,mσ,b))\n",
    "plot(xx,yy,'b-')"
   ]
  },
  {
   "cell_type": "code",
   "execution_count": 45,
   "metadata": {},
   "outputs": [
    {
     "data": {
      "text/plain": [
       "Intercept    9.202848\n",
       "x            0.004610\n",
       "dtype: float64"
      ]
     },
     "execution_count": 45,
     "metadata": {},
     "output_type": "execute_result"
    }
   ],
   "source": [
    "results.bse"
   ]
  },
  {
   "cell_type": "code",
   "execution_count": null,
   "metadata": {},
   "outputs": [],
   "source": []
  }
 ],
 "metadata": {
  "kernelspec": {
   "display_name": "Python 3",
   "language": "python",
   "name": "python3"
  },
  "language_info": {
   "codemirror_mode": {
    "name": "ipython",
    "version": 3
   },
   "file_extension": ".py",
   "mimetype": "text/x-python",
   "name": "python",
   "nbconvert_exporter": "python",
   "pygments_lexer": "ipython3",
   "version": "3.7.6"
  }
 },
 "nbformat": 4,
 "nbformat_minor": 4
}

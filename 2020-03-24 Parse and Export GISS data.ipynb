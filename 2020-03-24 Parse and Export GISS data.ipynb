{
 "cells": [
  {
   "cell_type": "code",
   "execution_count": 1,
   "metadata": {},
   "outputs": [
    {
     "name": "stdout",
     "output_type": "stream",
     "text": [
      "Populating the interactive namespace from numpy and matplotlib\n"
     ]
    }
   ],
   "source": [
    "%pylab inline"
   ]
  },
  {
   "cell_type": "code",
   "execution_count": 2,
   "metadata": {
    "collapsed": false,
    "jupyter": {
     "outputs_hidden": false
    }
   },
   "outputs": [
    {
     "name": "stdout",
     "output_type": "stream",
     "text": [
      "Version 0.0.4\n"
     ]
    }
   ],
   "source": [
    "from science import *"
   ]
  },
  {
   "cell_type": "code",
   "execution_count": 3,
   "metadata": {},
   "outputs": [],
   "source": [
    "import gzip"
   ]
  },
  {
   "cell_type": "code",
   "execution_count": 4,
   "metadata": {
    "collapsed": false,
    "jupyter": {
     "outputs_hidden": false
    }
   },
   "outputs": [],
   "source": [
    "timeit(reset=True)"
   ]
  },
  {
   "cell_type": "code",
   "execution_count": 5,
   "metadata": {
    "collapsed": false,
    "jupyter": {
     "outputs_hidden": false
    }
   },
   "outputs": [
    {
     "data": {
      "text/plain": [
       "'0.00 s'"
      ]
     },
     "execution_count": 5,
     "metadata": {},
     "output_type": "execute_result"
    }
   ],
   "source": [
    "timeit()"
   ]
  },
  {
   "cell_type": "markdown",
   "metadata": {},
   "source": [
    "# Parsing the GISS Data\n",
    "\n",
    "https://data.giss.nasa.gov/gistemp/station_data_v4_globe/\n",
    "\n",
    "In our analysis, we can only use stations with reasonably long, consistently measured time records. This is a subset of the full list of stations (v4.temperature.inv.txt). That subset of list of stations (station_list.txt) that contribute to the final products may slightly change with each update, as the number of stations that get dropped due to the shortness of their temperature record may decrease when new data are added. Notice that as part of the homogenization, all stations with less than 20 years of data are discarded (as seen in part (a) of the figure below).\n",
    "\n",
    "\n",
    "The Brightness Index (BI) is used to categorize stations as rural or suburban. A station with a BI value equal to or less than ten is rural while greater than 10 is suburban."
   ]
  },
  {
   "cell_type": "code",
   "execution_count": 6,
   "metadata": {
    "collapsed": false,
    "jupyter": {
     "outputs_hidden": false
    }
   },
   "outputs": [],
   "source": [
    "subset_station_lines=station_lines=open('data/station_list.txt').readlines()\n",
    "all_station_lines=open('data/v4.temperature.inv.txt').readlines()"
   ]
  },
  {
   "cell_type": "code",
   "execution_count": 7,
   "metadata": {},
   "outputs": [],
   "source": [
    "with gzip.open('data/v4.mean_GISS_homogenized.txt.gz','rt') as fid:\n",
    "    GISS_lines=fid.readlines()"
   ]
  },
  {
   "cell_type": "code",
   "execution_count": 8,
   "metadata": {
    "collapsed": false,
    "jupyter": {
     "outputs_hidden": false
    }
   },
   "outputs": [
    {
     "data": {
      "text/plain": [
       "['ID          Station Name                         Lat        Lon   BI\\n',\n",
       " 'CIXLT572018 Isla Huafo                      -43.5300   -74.7500    0\\n',\n",
       " 'CA006075024 Mattice Tcpl                     49.6000   -83.1667    0\\n',\n",
       " 'MXXLT770246 Mazatan Mazatansmn               29.0000  -110.1100    0\\n',\n",
       " 'SWE00140886 Vittangi                         67.6800    21.6300    0\\n',\n",
       " 'USC00409502 Waynesboro                       35.3042   -87.7592    0\\n',\n",
       " 'MR000001498 Kiffa                            16.6300   -11.4000    0\\n',\n",
       " 'USW00094240 Quillayute State Ap              47.9375  -124.5550    0\\n',\n",
       " 'NON00008250 Koppangoyset                     61.6167    10.9000    0\\n',\n",
       " 'USC00086842 Panama City 5N                   30.2492   -85.6606   27\\n']"
      ]
     },
     "execution_count": 8,
     "metadata": {},
     "output_type": "execute_result"
    }
   ],
   "source": [
    "station_lines[:10]  # first 10 lines"
   ]
  },
  {
   "cell_type": "code",
   "execution_count": 9,
   "metadata": {
    "collapsed": false,
    "jupyter": {
     "outputs_hidden": false
    }
   },
   "outputs": [
    {
     "data": {
      "text/plain": [
       "['ID           Lat       Lon     Elev-m Station Name                   BI\\n',\n",
       " 'ACW00011604  57.7667   11.8667   18.0 SAVE                           45     \\n',\n",
       " 'AE000041196  25.3330   55.5170   34.0 SHARJAH_INTER_AIRP             39     \\n',\n",
       " 'AEM00041184  25.6170   55.9330   31.0 RAS_AL_KHAIMAH_INTE            17     \\n',\n",
       " 'AEM00041194  25.2550   55.3640   10.4 DUBAI_INTL                     104     \\n',\n",
       " 'AEM00041216  24.4300   54.4700    3.0 ABU_DHABI_BATEEN_AIR           114     \\n',\n",
       " 'AEM00041217  24.4330   54.6510   26.8 ABU_DHABI_INTL                 39     \\n',\n",
       " 'AEM00041218  24.2620   55.6090  264.9 AL_AIN_INTL                    27     \\n',\n",
       " 'AF000040930  35.3170   69.0170 3366.0 NORTH_SALANG                   0     \\n',\n",
       " 'AFM00040911  36.7000   67.2000  378.0 MAZAR_I_SHARIF                 0     \\n']"
      ]
     },
     "execution_count": 9,
     "metadata": {},
     "output_type": "execute_result"
    }
   ],
   "source": [
    "all_station_lines[:10]"
   ]
  },
  {
   "cell_type": "code",
   "execution_count": 10,
   "metadata": {},
   "outputs": [
    {
     "data": {
      "text/plain": [
       "['ACW00011604  57.7667   11.8667   18.0 SAVE                           45\\n',\n",
       " '1961   -79     246     482     783    1138    1609    1580    1491    1423    1184     520     -29\\n',\n",
       " '1962   123      95    -144     645     918    1391    1520    1403    1173    1004     333    -116\\n',\n",
       " '1963  -703    -543     -89     551    1234    1637    1630    1606    1342     950     576     -98\\n',\n",
       " '1964    72     -75      65     748    1229    1452    1516    1567    1231     798     556     122\\n',\n",
       " '1965    54     -95      48     600     997    1510    1497    1487    1387     984      41    -169\\n',\n",
       " '1966  -428    -552     170     308    1144    1704    1682    1533    1257     865     391      64\\n',\n",
       " '1967  -208      98     459     543    1114    1435    1717    1660    1380    1059     621     -34\\n',\n",
       " '1968  -244    -121     282     776     997    1697    1634    1780    1393     843     242       6\\n',\n",
       " '1969   -72    -432    -123     559    1024    1696    1749    1835    1441     994     383    -213\\n',\n",
       " '1970  -421    -642     -13     323    1155    1786    1532    1671    1225     898     362     135\\n',\n",
       " '1971    56     145      22     534    1242    1473    1762    1662    1227     970     423     445\\n',\n",
       " '1972  -315      58     312     618    1179    1506    1840    1607    1135     859     543     466\\n',\n",
       " '1973   123     231     515     534    1137    1607    1928    1641    1261     625     216      72\\n',\n",
       " '1974   252     270     400     809    1155    1524    1559    1602    1380     646     489     396\\n',\n",
       " '1975   407     149     259     549    1226    1544    1817    1967    1435     906     467     448\\n',\n",
       " '1976  -102      -1     -74     563    1189    1522    1883    1820    1197     776     519    -144\\n',\n",
       " '1977  -131    -218     295     393    1189    1627    1626    1617    1187    1010     482     223\\n',\n",
       " '1978   116    -293     127     554    1216    1613    1625    1616    1122     993     761    -391\\n',\n",
       " '1979  -545    -559     108     547    1066    1639    1557    1556    1302     720     485      33\\n',\n",
       " '1980  -267    -427      38     597    1144    1607    1728    1575    1342     733     211     197\\n',\n",
       " '1981   -98     -18     132     552    1342    1432    1652    1592    1392     852     452    -588\\n',\n",
       " '1982  -548     -98     372     642    1092    1462    1862    1772    1412    1002     702     302\\n',\n",
       " '1983   472    -178     342     752    1172    1502    1802    1692    1362     982     412     192\\n',\n",
       " '1984    12      62     102     642    1292    1492    1682    1722    1132    1122     622     302\\n',\n",
       " '1985  -668    -668     162     432    1262    1432    1682    1622    1152    1042     142      62\\n',\n",
       " '1986  -308    -578     232     432    1222    1592    1682    1502    1052     952     742     162\\n',\n",
       " '1987  -748     -48    -178     662     992    1252    1612    1452    1212     982     432     271\\n',\n",
       " '1988   371     211     101     531    1371    1781    1741    1651    1441     761     221     221\\n',\n",
       " '1989   574     534     584     674    1184    1574    1784    1544    1324     984     444     224\\n',\n",
       " '1990   454     594     604     814    1234    1584    1674    1714    1214     954     394     284\\n',\n",
       " '1991   234    -136     474     714    1034    1264   -9999   -9999    1374   -9999   -9999     404\\n',\n",
       " '1992   304   -9999   -9999     594   -9999   -9999   -9999   -9999    1334     564     474   -9999\\n',\n",
       " '1993 -9999     134   -9999   -9999   -9999   -9999   -9999   -9999    1074     764     274     174\\n',\n",
       " '1994   174    -366     274     784    1214    1384    2084    1824    1284     774     574     433\\n',\n",
       " '1995   -17     343     333     633    1033    1513    1813    1613    1333    1173     293    -177\\n',\n",
       " '1996  -167    -336     107     687     967    1457    1587    1907    1097    1047     557    -193\\n',\n",
       " '1997  -123     237     337     587    1027    1677    1887    2067    1447     677     397     187\\n',\n",
       " '1998   257     487     307     677    1277    1437    1597   -9999   -9999   -9999   -9999   -9999\\n',\n",
       " '1999 -9999   -9999   -9999   -9999   -9999    1497    1827    1697    1627     937     627     177\\n',\n",
       " '2000   297     327     347     927    1367    1487    1667    1617    1307    1197     847     377\\n',\n",
       " '2001   197    -103      77     617    1197    1397    1847    1737    1327    1227     487     -83\\n',\n",
       " '2002   307     447     447     777    1417    1677    1857    2052    1457     582     282    -154\\n',\n",
       " '2003  -118    -184     305     711    1206    1676    1900    1756    1446     556     610     366\\n',\n",
       " '2004  -154     112     321     851    1266    1436    1626    1866    1381     911     426     421\\n',\n",
       " '2005   341      26      51     751    1141    1471    1906    1691    1470    1046     646     201\\n',\n",
       " '2006  -219     -89    -224     636    1236    1601    1995    1841    1720    1216     791     721\\n',\n",
       " '2007   396     106     656     930    1236    1756    1791   -9999    1376     861     426     306\\n',\n",
       " '2008   373     459     298     846    1347    1618    1926    1695    1326    1031     476     230\\n',\n",
       " '2009    24    -184     336    1040   -9999    1556    1832    1790    1456     686     682     -45\\n',\n",
       " '2010  -548    -349     190     719    1127    1534    1954    1722    1290     793     182    -615\\n',\n",
       " '2011   -83    -132     278    1040    1213    1663    1875    1723    1466     987     721     428\\n',\n",
       " '2012   121     -98     592     646    1365    1426    1771    1748    1362     826     620    -234\\n',\n",
       " '2013  -104     -93     -48     595   -9999    1612    1855    1802    1359    1042     601   -9999\\n',\n",
       " 'AE000041196  25.3330   55.5170   34.0 SHARJAH_INTER_AIRP             39\\n',\n",
       " '1933 -9999   -9999   -9999   -9999    3007    2997    3317    3597    3137    2907    2457    2147\\n',\n",
       " '1934  1807    2057    2047    2647    2957    3217    3397    3427    3227    2897    2517    2274\\n',\n",
       " '1935  1954    1994    2284    2444    2864    3324    3404    3544    3254    2944    2604    2242\\n',\n",
       " '1936  1882    2092    2322    2612    3092    3102    3412    3522    3282    2852    2452    2120\\n',\n",
       " '1937  1820    1940    2170    2580    3070    3150    3480    3550    3270    2970    2640    2137\\n',\n",
       " '1938  2057    2067    2187    2477    2927    3137    3577    3507    3277    2867    2507    2215\\n',\n",
       " '1939  2025    2045    2325    2435    2935    3115    3245    3445    3275    2945    2555    2122\\n',\n",
       " '1940  1962    2162    2112    2572    2912    3222    3412    3482    3202    2962    2582    2130\\n',\n",
       " '1941  1920    2060    2410    2690    2940    3280    3450    3410    3240    2980    2610    2218\\n',\n",
       " '1942  1968    2108    2368    2608    2978    3268    3538    3528    3318    2988    2608    2175\\n',\n",
       " '1943  1995    1975    2275    2615    2915    3095    3405    3565    3355    2865    2505    2313\\n',\n",
       " '1944  2123    2013    2433    2680    2960    3315    3533    3576    3271    2962    2635    2113\\n',\n",
       " '1945  1856    1936    2256    2626    2897    3229    3459    3364    3301    2931    2581    2118\\n',\n",
       " '1946  1928    2038    2178    2708    2918    3088    3398    3558    3278    2928    2448    2076\\n',\n",
       " '1947  2016    2016    2276    2656    2976    3166    3536   -9999   -9999   -9999   -9999   -9999\\n',\n",
       " '1948  1933    2143    2373    2693    3083    3203   -9999   -9999   -9999   -9999   -9999   -9999\\n',\n",
       " '1949 -9999   -9999   -9999   -9999   -9999   -9999   -9999   -9999   -9999    2701    2271    2099\\n',\n",
       " '1950  1859    1709    2239    2509    2899    3059    3409    3349    3259    2859    2409    1986\\n',\n",
       " '1951 -9999    1996    2166    2506    2966    3206    3506    3526    3266    2966    2416    2164\\n',\n",
       " '1952  1854    2024    2354    2634    3014    3064    3394    3544    3214    2864    2484    2192\\n',\n",
       " '1953  2092    2162    2382    2542    2882    3212    3462    3492    3312    2892    2482    2179\\n',\n",
       " '1954  1939    2029    2359    2609    2929    3189    3549    3459    3239    2849    2549    2097\\n',\n",
       " '1955  1995    1952    2366    2585    2888    3190    3492    3415    3245    2820    2500    2174\\n',\n",
       " '1956  1857    2043    2641    2682    2731    3152    3560    3471    3226    2795    2389    2116\\n',\n",
       " '1957  1947    1953    2283    2518    2815    3038    3351    3418    3202    2937    2537    2151\\n']"
      ]
     },
     "execution_count": 10,
     "metadata": {},
     "output_type": "execute_result"
    }
   ],
   "source": [
    "GISS_lines[:80]  # what are these numbers?"
   ]
  },
  {
   "cell_type": "markdown",
   "metadata": {},
   "source": [
    "First one is year, next ones are temperatures for the months, probably multiplied by 100"
   ]
  },
  {
   "cell_type": "markdown",
   "metadata": {},
   "source": [
    "Fixed length strings on station list  :-("
   ]
  },
  {
   "cell_type": "code",
   "execution_count": 11,
   "metadata": {},
   "outputs": [
    {
     "data": {
      "text/plain": [
       "['ID          Station Name                         Lat        Lon   BI\\n']"
      ]
     },
     "execution_count": 11,
     "metadata": {},
     "output_type": "execute_result"
    }
   ],
   "source": [
    "header=station_lines[0].split('\\t')\n",
    "header"
   ]
  },
  {
   "cell_type": "code",
   "execution_count": 12,
   "metadata": {},
   "outputs": [
    {
     "data": {
      "text/plain": [
       "['ACW00011604', '57.7667', '11.8667', '18.0', 'SAVE', '45']"
      ]
     },
     "execution_count": 12,
     "metadata": {},
     "output_type": "execute_result"
    }
   ],
   "source": [
    "header=GISS_lines[0].split()\n",
    "header"
   ]
  },
  {
   "cell_type": "code",
   "execution_count": 13,
   "metadata": {},
   "outputs": [
    {
     "data": {
      "text/plain": [
       "['1961  1970    1950    2009    1855    1695    1315    1245    1325    1790    2070    1955    2005\\n',\n",
       " '1962  2040    2040    1905    1840    1320    1400   -9999   -9999   -9999   -9999   -9999   -9999\\n',\n",
       " '1963 -9999   -9999   -9999   -9999   -9999    1269   -9999   -9999   -9999   -9999   -9999   -9999\\n',\n",
       " '1964 -9999   -9999   -9999   -9999   -9999    1124   -9999   -9999   -9999   -9999   -9999   -9999\\n',\n",
       " '1965 -9999   -9999   -9999   -9999   -9999    1153    1203    1423    1663    1843    2043    2222\\n',\n",
       " '1966  2182    2042    1842    1692    1432    1282    1212    1462    1772    1982    2092    2112\\n',\n",
       " '1967  2112    1992    1892    1922    1512    1352    1102    1382    1662    2082    1992    1911\\n',\n",
       " '1968  2181    2001    1931    1821    1561    1081    1371    1631    1761    2181    1841    2071\\n',\n",
       " '1969  2091    2151    1951    1831    1411    1311    1161    1461    1781    2101    2041    1910\\n',\n",
       " '1970  2070    1990    1930    1720    1560    1330    1330    1540    2040    2030    2130    2150\\n']"
      ]
     },
     "execution_count": 13,
     "metadata": {},
     "output_type": "execute_result"
    }
   ],
   "source": [
    "GISS_lines[-10:]"
   ]
  },
  {
   "cell_type": "code",
   "execution_count": null,
   "metadata": {},
   "outputs": [],
   "source": []
  },
  {
   "cell_type": "code",
   "execution_count": 14,
   "metadata": {},
   "outputs": [
    {
     "name": "stdout",
     "output_type": "stream",
     "text": [
      "Starting.............O..........O..........O..........O..........O..........O..........O..........O..........O..........O..........O..........O..........O..........O..........O..........O..........O..........O..........O..........O..........O..........O..........O..........O..........O..........O..........O....done.\n"
     ]
    }
   ],
   "source": [
    "data=[]\n",
    "station_data=None\n",
    "earliest_year=2019\n",
    "\n",
    "count=0\n",
    "print(\"Starting...\",end=\"\")\n",
    "for line in GISS_lines:\n",
    "    \n",
    "    # do all the IDs start with A?\n",
    "    if not line[0] in '12': # this is a header line, not starting with a 1 or a 2\n",
    "        \n",
    "        if not station_data is None:   #save the old station\n",
    "            station_data.time=array(station_data.time)\n",
    "            station_data.temperature=array(station_data.temperature)\n",
    "            data.append(station_data)\n",
    "            count+=1\n",
    "            if count%100==0:\n",
    "                print(\".\",end=\"\")\n",
    "            if count%1000==0:\n",
    "                print(\"O\",end=\"\")\n",
    "        \n",
    "        station_data=Struct()\n",
    "\n",
    "        header=line.split()\n",
    "        #print(header)\n",
    "        station_data.ID=header[0]\n",
    "        station_data.lat=float(header[1])\n",
    "        station_data.long=float(header[2])\n",
    "        station_data.elev=float(header[3])\n",
    "        station_data.station=header[4]\n",
    "        \n",
    "        if header[5]=='*':\n",
    "            station_data.brightness=header[6]\n",
    "        else:\n",
    "            station_data.brightness=header[5]\n",
    "            \n",
    "        station_data.time=[]\n",
    "        station_data.temperature=[]\n",
    "        \n",
    "        assert (len(header)==6) or ((len(header)==7) and (header[5]=='*'))\n",
    "    else:  # this is a line of data\n",
    "        parts=line.split()\n",
    "        year=int(parts[0])\n",
    "        \n",
    "        if year<earliest_year:\n",
    "            earliest_year=year\n",
    "            \n",
    "        raw_temp=[int(part) for part in parts[1:]]\n",
    "        \n",
    "        for i,raw_T in enumerate(raw_temp):\n",
    "            time=year+i/12  # change the month into a real number\n",
    "            T=raw_T/100\n",
    "            \n",
    "            \n",
    "            station_data.time.append(time)\n",
    "            \n",
    "            if raw_T==-9999:\n",
    "                station_data.temperature.append(nan)\n",
    "            else:\n",
    "                station_data.temperature.append(T)\n",
    "            \n",
    "            \n",
    "            \n",
    "data.append(station_data)\n",
    "print(\"done.\")"
   ]
  },
  {
   "cell_type": "code",
   "execution_count": 15,
   "metadata": {},
   "outputs": [
    {
     "data": {
      "text/plain": [
       "1880"
      ]
     },
     "execution_count": 15,
     "metadata": {},
     "output_type": "execute_result"
    }
   ],
   "source": [
    "earliest_year"
   ]
  },
  {
   "cell_type": "markdown",
   "metadata": {},
   "source": [
    "## Can I make it into a single data frame or perhaps two?  average over a year"
   ]
  },
  {
   "cell_type": "code",
   "execution_count": 16,
   "metadata": {},
   "outputs": [
    {
     "data": {
      "text/plain": [
       "20925"
      ]
     },
     "execution_count": 16,
     "metadata": {},
     "output_type": "execute_result"
    }
   ],
   "source": [
    "len(station_lines)"
   ]
  },
  {
   "cell_type": "code",
   "execution_count": 17,
   "metadata": {},
   "outputs": [],
   "source": [
    "import pandas as pd"
   ]
  },
  {
   "cell_type": "code",
   "execution_count": 18,
   "metadata": {},
   "outputs": [
    {
     "name": "stdout",
     "output_type": "stream",
     "text": [
      "Starting.............O..........O..........O..........O..........O..........O..........O..........O..........O..........O..........O..........O..........O..........O..........O..........O..........O..........O..........O..........O..........O..........O..........O..........O..........O..........O..........O....done.\n"
     ]
    }
   ],
   "source": [
    "time_arr=arange(1880,2021)\n",
    "temperature_arr=nan*ones(len(time_arr))\n",
    "\n",
    "data={'time':time_arr}\n",
    "info=Struct({'ID':[],\n",
    "      'Station':[],\n",
    "      'Latitude':[],\n",
    "      'Longitude':[],\n",
    "      'Brightness':[],\n",
    "      'Elevation':[],\n",
    "     })\n",
    "\n",
    "\n",
    "station_data=None\n",
    "\n",
    "count=0\n",
    "print(\"Starting...\",end=\"\")\n",
    "for line in GISS_lines:\n",
    "    \n",
    "    # do all the IDs start with A?\n",
    "    if not line[0] in '12': # this is a header line, not starting with a 1 or a 2\n",
    "        \n",
    "        if not station_data is None:   #save the old station\n",
    "            data[station_data.station]=temperature_arr\n",
    "            temperature_arr=nan*ones(len(time_arr))\n",
    "\n",
    "            info.ID.append(station_data.ID)\n",
    "            info.Station.append(station_data.station)\n",
    "            info.Latitude.append(station_data.lat)\n",
    "            info.Longitude.append(station_data.long)\n",
    "            info.Elevation.append(station_data.elev)\n",
    "            info.Brightness.append(station_data.brightness)\n",
    "\n",
    "            count+=1\n",
    "            if count%100==0:\n",
    "                print(\".\",end=\"\")\n",
    "            if count%1000==0:\n",
    "                print(\"O\",end=\"\")\n",
    "        \n",
    "        station_data=Struct()\n",
    "\n",
    "        header=line.split()\n",
    "        #print(header)\n",
    "        station_data.ID=header[0]\n",
    "        station_data.lat=float(header[1])\n",
    "        station_data.long=float(header[2])\n",
    "        station_data.elev=float(header[3])\n",
    "        \n",
    "        if station_data.elev==9999.0:\n",
    "            station_data.elev=nan\n",
    "\n",
    "        \n",
    "        station_data.station=header[4]\n",
    "        \n",
    "        if header[5]=='*':\n",
    "            station_data.brightness=nan\n",
    "        else:\n",
    "            station_data.brightness=int(header[5])\n",
    "            \n",
    "        assert (len(header)==6) or ((len(header)==7) and (header[5]=='*'))\n",
    "    else:  # this is a line of data\n",
    "        parts=line.split()\n",
    "        year=int(parts[0])\n",
    "        \n",
    "        raw_temp=[int(part) for part in parts[1:]]\n",
    "        \n",
    "        T=[]\n",
    "        for i,raw_T in enumerate(raw_temp):\n",
    "            time=year+i/12  # change the month into a real number\n",
    "            \n",
    "            if raw_T==-9999:\n",
    "                T.append(nan)\n",
    "            else:\n",
    "                T.append(raw_T/100)\n",
    "            \n",
    "            \n",
    "            \n",
    "            \n",
    "        idx=where(time_arr==year)[0][0]\n",
    "        temperature_arr[idx]=nanmean(T)\n",
    "            \n",
    "            \n",
    "data[station_data.station]=temperature_arr\n",
    "\n",
    "info.ID.append(station_data.ID)\n",
    "info.Station.append(station_data.station)\n",
    "info.Latitude.append(station_data.lat)\n",
    "info.Longitude.append(station_data.long)\n",
    "info.Elevation.append(station_data.elev)\n",
    "info.Brightness.append(station_data.brightness)\n",
    "\n",
    "\n",
    "\n",
    "print(\"done.\")"
   ]
  },
  {
   "cell_type": "code",
   "execution_count": 19,
   "metadata": {},
   "outputs": [],
   "source": [
    "info=pd.DataFrame(info)\n",
    "data=pd.DataFrame(data)"
   ]
  },
  {
   "cell_type": "code",
   "execution_count": 20,
   "metadata": {},
   "outputs": [
    {
     "data": {
      "text/html": [
       "<div>\n",
       "<style scoped>\n",
       "    .dataframe tbody tr th:only-of-type {\n",
       "        vertical-align: middle;\n",
       "    }\n",
       "\n",
       "    .dataframe tbody tr th {\n",
       "        vertical-align: top;\n",
       "    }\n",
       "\n",
       "    .dataframe thead th {\n",
       "        text-align: right;\n",
       "    }\n",
       "</style>\n",
       "<table border=\"1\" class=\"dataframe\">\n",
       "  <thead>\n",
       "    <tr style=\"text-align: right;\">\n",
       "      <th></th>\n",
       "      <th>ID</th>\n",
       "      <th>Station</th>\n",
       "      <th>Latitude</th>\n",
       "      <th>Longitude</th>\n",
       "      <th>Brightness</th>\n",
       "      <th>Elevation</th>\n",
       "    </tr>\n",
       "  </thead>\n",
       "  <tbody>\n",
       "    <tr>\n",
       "      <th>0</th>\n",
       "      <td>ACW00011604</td>\n",
       "      <td>SAVE</td>\n",
       "      <td>57.7667</td>\n",
       "      <td>11.8667</td>\n",
       "      <td>45.0</td>\n",
       "      <td>18.0</td>\n",
       "    </tr>\n",
       "    <tr>\n",
       "      <th>1</th>\n",
       "      <td>AE000041196</td>\n",
       "      <td>SHARJAH_INTER_AIRP</td>\n",
       "      <td>25.3330</td>\n",
       "      <td>55.5170</td>\n",
       "      <td>39.0</td>\n",
       "      <td>34.0</td>\n",
       "    </tr>\n",
       "    <tr>\n",
       "      <th>2</th>\n",
       "      <td>AEM00041184</td>\n",
       "      <td>RAS_AL_KHAIMAH_INTE</td>\n",
       "      <td>25.6170</td>\n",
       "      <td>55.9330</td>\n",
       "      <td>17.0</td>\n",
       "      <td>31.0</td>\n",
       "    </tr>\n",
       "    <tr>\n",
       "      <th>3</th>\n",
       "      <td>AEM00041194</td>\n",
       "      <td>DUBAI_INTL</td>\n",
       "      <td>25.2550</td>\n",
       "      <td>55.3640</td>\n",
       "      <td>104.0</td>\n",
       "      <td>10.4</td>\n",
       "    </tr>\n",
       "    <tr>\n",
       "      <th>4</th>\n",
       "      <td>AEM00041216</td>\n",
       "      <td>ABU_DHABI_BATEEN_AIR</td>\n",
       "      <td>24.4300</td>\n",
       "      <td>54.4700</td>\n",
       "      <td>114.0</td>\n",
       "      <td>3.0</td>\n",
       "    </tr>\n",
       "  </tbody>\n",
       "</table>\n",
       "</div>"
      ],
      "text/plain": [
       "            ID               Station  Latitude  Longitude  Brightness  \\\n",
       "0  ACW00011604                  SAVE   57.7667    11.8667        45.0   \n",
       "1  AE000041196    SHARJAH_INTER_AIRP   25.3330    55.5170        39.0   \n",
       "2  AEM00041184   RAS_AL_KHAIMAH_INTE   25.6170    55.9330        17.0   \n",
       "3  AEM00041194            DUBAI_INTL   25.2550    55.3640       104.0   \n",
       "4  AEM00041216  ABU_DHABI_BATEEN_AIR   24.4300    54.4700       114.0   \n",
       "\n",
       "   Elevation  \n",
       "0       18.0  \n",
       "1       34.0  \n",
       "2       31.0  \n",
       "3       10.4  \n",
       "4        3.0  "
      ]
     },
     "execution_count": 20,
     "metadata": {},
     "output_type": "execute_result"
    }
   ],
   "source": [
    "info.head()"
   ]
  },
  {
   "cell_type": "code",
   "execution_count": 21,
   "metadata": {},
   "outputs": [
    {
     "data": {
      "text/html": [
       "<div>\n",
       "<style scoped>\n",
       "    .dataframe tbody tr th:only-of-type {\n",
       "        vertical-align: middle;\n",
       "    }\n",
       "\n",
       "    .dataframe tbody tr th {\n",
       "        vertical-align: top;\n",
       "    }\n",
       "\n",
       "    .dataframe thead th {\n",
       "        text-align: right;\n",
       "    }\n",
       "</style>\n",
       "<table border=\"1\" class=\"dataframe\">\n",
       "  <thead>\n",
       "    <tr style=\"text-align: right;\">\n",
       "      <th></th>\n",
       "      <th>time</th>\n",
       "      <th>SAVE</th>\n",
       "      <th>SHARJAH_INTER_AIRP</th>\n",
       "      <th>RAS_AL_KHAIMAH_INTE</th>\n",
       "      <th>DUBAI_INTL</th>\n",
       "      <th>ABU_DHABI_BATEEN_AIR</th>\n",
       "      <th>ABU_DHABI_INTL</th>\n",
       "      <th>AL_AIN_INTL</th>\n",
       "      <th>NORTH_SALANG</th>\n",
       "      <th>MAZAR_I_SHARIF</th>\n",
       "      <th>...</th>\n",
       "      <th>BULAWAYO_GOETZ_OBS</th>\n",
       "      <th>BULAWAYO_AIRPORT</th>\n",
       "      <th>WEST_NICHOLSON</th>\n",
       "      <th>MASVINGO</th>\n",
       "      <th>BUFFALO_RANGE</th>\n",
       "      <th>CHIPINGE</th>\n",
       "      <th>BEITBRIDGE</th>\n",
       "      <th>HARARE_BELVEDERE</th>\n",
       "      <th>GRAND_REEF</th>\n",
       "      <th>GWELO</th>\n",
       "    </tr>\n",
       "  </thead>\n",
       "  <tbody>\n",
       "    <tr>\n",
       "      <th>136</th>\n",
       "      <td>2016</td>\n",
       "      <td>28.198333</td>\n",
       "      <td>27.810000</td>\n",
       "      <td>NaN</td>\n",
       "      <td>29.545833</td>\n",
       "      <td>NaN</td>\n",
       "      <td>NaN</td>\n",
       "      <td>28.935000</td>\n",
       "      <td>NaN</td>\n",
       "      <td>NaN</td>\n",
       "      <td>...</td>\n",
       "      <td>20.777273</td>\n",
       "      <td>NaN</td>\n",
       "      <td>NaN</td>\n",
       "      <td>20.6625</td>\n",
       "      <td>NaN</td>\n",
       "      <td>20.178333</td>\n",
       "      <td>NaN</td>\n",
       "      <td>NaN</td>\n",
       "      <td>NaN</td>\n",
       "      <td>NaN</td>\n",
       "    </tr>\n",
       "    <tr>\n",
       "      <th>137</th>\n",
       "      <td>2017</td>\n",
       "      <td>28.298333</td>\n",
       "      <td>28.335000</td>\n",
       "      <td>NaN</td>\n",
       "      <td>30.027500</td>\n",
       "      <td>NaN</td>\n",
       "      <td>31.6730</td>\n",
       "      <td>29.655000</td>\n",
       "      <td>NaN</td>\n",
       "      <td>NaN</td>\n",
       "      <td>...</td>\n",
       "      <td>18.564286</td>\n",
       "      <td>NaN</td>\n",
       "      <td>NaN</td>\n",
       "      <td>19.0200</td>\n",
       "      <td>NaN</td>\n",
       "      <td>NaN</td>\n",
       "      <td>NaN</td>\n",
       "      <td>NaN</td>\n",
       "      <td>NaN</td>\n",
       "      <td>NaN</td>\n",
       "    </tr>\n",
       "    <tr>\n",
       "      <th>138</th>\n",
       "      <td>2018</td>\n",
       "      <td>28.081667</td>\n",
       "      <td>28.904545</td>\n",
       "      <td>NaN</td>\n",
       "      <td>30.098182</td>\n",
       "      <td>NaN</td>\n",
       "      <td>29.7925</td>\n",
       "      <td>29.965455</td>\n",
       "      <td>NaN</td>\n",
       "      <td>NaN</td>\n",
       "      <td>...</td>\n",
       "      <td>NaN</td>\n",
       "      <td>NaN</td>\n",
       "      <td>NaN</td>\n",
       "      <td>NaN</td>\n",
       "      <td>NaN</td>\n",
       "      <td>NaN</td>\n",
       "      <td>NaN</td>\n",
       "      <td>NaN</td>\n",
       "      <td>NaN</td>\n",
       "      <td>NaN</td>\n",
       "    </tr>\n",
       "    <tr>\n",
       "      <th>139</th>\n",
       "      <td>2019</td>\n",
       "      <td>28.266667</td>\n",
       "      <td>28.251667</td>\n",
       "      <td>NaN</td>\n",
       "      <td>29.585833</td>\n",
       "      <td>NaN</td>\n",
       "      <td>29.4000</td>\n",
       "      <td>29.061667</td>\n",
       "      <td>NaN</td>\n",
       "      <td>NaN</td>\n",
       "      <td>...</td>\n",
       "      <td>NaN</td>\n",
       "      <td>NaN</td>\n",
       "      <td>NaN</td>\n",
       "      <td>NaN</td>\n",
       "      <td>NaN</td>\n",
       "      <td>NaN</td>\n",
       "      <td>NaN</td>\n",
       "      <td>NaN</td>\n",
       "      <td>NaN</td>\n",
       "      <td>NaN</td>\n",
       "    </tr>\n",
       "    <tr>\n",
       "      <th>140</th>\n",
       "      <td>2020</td>\n",
       "      <td>29.550000</td>\n",
       "      <td>19.730000</td>\n",
       "      <td>NaN</td>\n",
       "      <td>21.280000</td>\n",
       "      <td>NaN</td>\n",
       "      <td>20.5750</td>\n",
       "      <td>19.460000</td>\n",
       "      <td>NaN</td>\n",
       "      <td>NaN</td>\n",
       "      <td>...</td>\n",
       "      <td>NaN</td>\n",
       "      <td>NaN</td>\n",
       "      <td>NaN</td>\n",
       "      <td>NaN</td>\n",
       "      <td>NaN</td>\n",
       "      <td>NaN</td>\n",
       "      <td>NaN</td>\n",
       "      <td>NaN</td>\n",
       "      <td>NaN</td>\n",
       "      <td>NaN</td>\n",
       "    </tr>\n",
       "  </tbody>\n",
       "</table>\n",
       "<p>5 rows × 25863 columns</p>\n",
       "</div>"
      ],
      "text/plain": [
       "     time       SAVE  SHARJAH_INTER_AIRP  RAS_AL_KHAIMAH_INTE  DUBAI_INTL  \\\n",
       "136  2016  28.198333           27.810000                  NaN   29.545833   \n",
       "137  2017  28.298333           28.335000                  NaN   30.027500   \n",
       "138  2018  28.081667           28.904545                  NaN   30.098182   \n",
       "139  2019  28.266667           28.251667                  NaN   29.585833   \n",
       "140  2020  29.550000           19.730000                  NaN   21.280000   \n",
       "\n",
       "     ABU_DHABI_BATEEN_AIR  ABU_DHABI_INTL  AL_AIN_INTL  NORTH_SALANG  \\\n",
       "136                   NaN             NaN    28.935000           NaN   \n",
       "137                   NaN         31.6730    29.655000           NaN   \n",
       "138                   NaN         29.7925    29.965455           NaN   \n",
       "139                   NaN         29.4000    29.061667           NaN   \n",
       "140                   NaN         20.5750    19.460000           NaN   \n",
       "\n",
       "     MAZAR_I_SHARIF  ...  BULAWAYO_GOETZ_OBS  BULAWAYO_AIRPORT  \\\n",
       "136             NaN  ...           20.777273               NaN   \n",
       "137             NaN  ...           18.564286               NaN   \n",
       "138             NaN  ...                 NaN               NaN   \n",
       "139             NaN  ...                 NaN               NaN   \n",
       "140             NaN  ...                 NaN               NaN   \n",
       "\n",
       "     WEST_NICHOLSON  MASVINGO  BUFFALO_RANGE   CHIPINGE  BEITBRIDGE  \\\n",
       "136             NaN   20.6625            NaN  20.178333         NaN   \n",
       "137             NaN   19.0200            NaN        NaN         NaN   \n",
       "138             NaN       NaN            NaN        NaN         NaN   \n",
       "139             NaN       NaN            NaN        NaN         NaN   \n",
       "140             NaN       NaN            NaN        NaN         NaN   \n",
       "\n",
       "     HARARE_BELVEDERE  GRAND_REEF  GWELO  \n",
       "136               NaN         NaN    NaN  \n",
       "137               NaN         NaN    NaN  \n",
       "138               NaN         NaN    NaN  \n",
       "139               NaN         NaN    NaN  \n",
       "140               NaN         NaN    NaN  \n",
       "\n",
       "[5 rows x 25863 columns]"
      ]
     },
     "execution_count": 21,
     "metadata": {},
     "output_type": "execute_result"
    }
   ],
   "source": [
    "data.tail()"
   ]
  },
  {
   "cell_type": "code",
   "execution_count": 22,
   "metadata": {},
   "outputs": [],
   "source": [
    "info.to_excel(\"data/station_info.xlsx\")"
   ]
  },
  {
   "cell_type": "code",
   "execution_count": 23,
   "metadata": {},
   "outputs": [
    {
     "ename": "ValueError",
     "evalue": "This sheet is too large! Your sheet size is: 141, 25863 Max sheet size is: 1048576, 16384",
     "output_type": "error",
     "traceback": [
      "\u001b[0;31m---------------------------------------------------------------------------\u001b[0m",
      "\u001b[0;31mValueError\u001b[0m                                Traceback (most recent call last)",
      "\u001b[0;32m<ipython-input-23-3ece17ffd48f>\u001b[0m in \u001b[0;36m<module>\u001b[0;34m\u001b[0m\n\u001b[0;32m----> 1\u001b[0;31m \u001b[0mdata\u001b[0m\u001b[0;34m.\u001b[0m\u001b[0mto_excel\u001b[0m\u001b[0;34m(\u001b[0m\u001b[0;34m\"data/station_temperature_data.xlsx\"\u001b[0m\u001b[0;34m)\u001b[0m\u001b[0;34m\u001b[0m\u001b[0;34m\u001b[0m\u001b[0m\n\u001b[0m",
      "\u001b[0;32m~/opt/anaconda3/lib/python3.7/site-packages/pandas/core/generic.py\u001b[0m in \u001b[0;36mto_excel\u001b[0;34m(self, excel_writer, sheet_name, na_rep, float_format, columns, header, index, index_label, startrow, startcol, engine, merge_cells, encoding, inf_rep, verbose, freeze_panes)\u001b[0m\n\u001b[1;32m   2179\u001b[0m             \u001b[0mstartcol\u001b[0m\u001b[0;34m=\u001b[0m\u001b[0mstartcol\u001b[0m\u001b[0;34m,\u001b[0m\u001b[0;34m\u001b[0m\u001b[0;34m\u001b[0m\u001b[0m\n\u001b[1;32m   2180\u001b[0m             \u001b[0mfreeze_panes\u001b[0m\u001b[0;34m=\u001b[0m\u001b[0mfreeze_panes\u001b[0m\u001b[0;34m,\u001b[0m\u001b[0;34m\u001b[0m\u001b[0;34m\u001b[0m\u001b[0m\n\u001b[0;32m-> 2181\u001b[0;31m             \u001b[0mengine\u001b[0m\u001b[0;34m=\u001b[0m\u001b[0mengine\u001b[0m\u001b[0;34m,\u001b[0m\u001b[0;34m\u001b[0m\u001b[0;34m\u001b[0m\u001b[0m\n\u001b[0m\u001b[1;32m   2182\u001b[0m         )\n\u001b[1;32m   2183\u001b[0m \u001b[0;34m\u001b[0m\u001b[0m\n",
      "\u001b[0;32m~/opt/anaconda3/lib/python3.7/site-packages/pandas/io/formats/excel.py\u001b[0m in \u001b[0;36mwrite\u001b[0;34m(self, writer, sheet_name, startrow, startcol, freeze_panes, engine)\u001b[0m\n\u001b[1;32m    717\u001b[0m         \u001b[0;32mif\u001b[0m \u001b[0mnum_rows\u001b[0m \u001b[0;34m>\u001b[0m \u001b[0mself\u001b[0m\u001b[0;34m.\u001b[0m\u001b[0mmax_rows\u001b[0m \u001b[0;32mor\u001b[0m \u001b[0mnum_cols\u001b[0m \u001b[0;34m>\u001b[0m \u001b[0mself\u001b[0m\u001b[0;34m.\u001b[0m\u001b[0mmax_cols\u001b[0m\u001b[0;34m:\u001b[0m\u001b[0;34m\u001b[0m\u001b[0;34m\u001b[0m\u001b[0m\n\u001b[1;32m    718\u001b[0m             raise ValueError(\n\u001b[0;32m--> 719\u001b[0;31m                 \u001b[0;34mf\"This sheet is too large! Your sheet size is: {num_rows}, {num_cols} \"\u001b[0m\u001b[0;34m\u001b[0m\u001b[0;34m\u001b[0m\u001b[0m\n\u001b[0m\u001b[1;32m    720\u001b[0m                 \u001b[0;34mf\"Max sheet size is: {self.max_rows}, {self.max_cols}\"\u001b[0m\u001b[0;34m\u001b[0m\u001b[0;34m\u001b[0m\u001b[0m\n\u001b[1;32m    721\u001b[0m             )\n",
      "\u001b[0;31mValueError\u001b[0m: This sheet is too large! Your sheet size is: 141, 25863 Max sheet size is: 1048576, 16384"
     ]
    }
   ],
   "source": [
    "data.to_excel(\"data/station_temperature_data.xlsx\")"
   ]
  },
  {
   "cell_type": "code",
   "execution_count": 24,
   "metadata": {},
   "outputs": [],
   "source": [
    "data.to_csv(\"data/station_temperature_data.csv.gz\", compression='gzip')"
   ]
  },
  {
   "cell_type": "code",
   "execution_count": null,
   "metadata": {},
   "outputs": [],
   "source": []
  },
  {
   "cell_type": "code",
   "execution_count": null,
   "metadata": {},
   "outputs": [],
   "source": [
    "data2=pd.read_csv(\"station_temperature_data.csv.gz\",index_col=False)"
   ]
  },
  {
   "cell_type": "code",
   "execution_count": null,
   "metadata": {},
   "outputs": [],
   "source": [
    "data2.head()"
   ]
  },
  {
   "cell_type": "code",
   "execution_count": null,
   "metadata": {},
   "outputs": [],
   "source": []
  },
  {
   "cell_type": "code",
   "execution_count": null,
   "metadata": {},
   "outputs": [],
   "source": []
  },
  {
   "cell_type": "code",
   "execution_count": null,
   "metadata": {},
   "outputs": [],
   "source": [
    "plot(data2['time'],data2['SAVE'],'-o')"
   ]
  },
  {
   "cell_type": "code",
   "execution_count": null,
   "metadata": {
    "collapsed": false,
    "jupyter": {
     "outputs_hidden": false
    }
   },
   "outputs": [],
   "source": []
  }
 ],
 "metadata": {
  "kernelspec": {
   "display_name": "Python 3",
   "language": "python",
   "name": "python3"
  },
  "language_info": {
   "codemirror_mode": {
    "name": "ipython",
    "version": 3
   },
   "file_extension": ".py",
   "mimetype": "text/x-python",
   "name": "python",
   "nbconvert_exporter": "python",
   "pygments_lexer": "ipython3",
   "version": "3.7.6"
  }
 },
 "nbformat": 4,
 "nbformat_minor": 4
}

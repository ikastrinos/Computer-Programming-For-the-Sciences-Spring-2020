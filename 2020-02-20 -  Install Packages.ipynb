{
 "cells": [
  {
   "cell_type": "markdown",
   "metadata": {},
   "source": [
    "# Git For Windows"
   ]
  },
  {
   "cell_type": "markdown",
   "metadata": {},
   "source": [
    "https://git-scm.com/download/win"
   ]
  },
  {
   "cell_type": "markdown",
   "metadata": {},
   "source": [
    "# Course GitHub"
   ]
  },
  {
   "cell_type": "code",
   "execution_count": 1,
   "metadata": {},
   "outputs": [],
   "source": [
    "def get_course_github(name='Computer-Programming-For-the-Sciences-Spring-2020'):\n",
    "    import os,sys,platform\n",
    "    \n",
    "    if not os.path.exists(name):\n",
    "            !git clone https://github.com/bblais/Computer-Programming-For-the-Sciences-Spring-2020 Computer-Programming-For-the-Sciences-Spring-2020            \n",
    "    else:\n",
    "        if platform.system()==\"Windows\":\n",
    "            !cd Computer-Programming-For-the-Sciences-Spring-2020 & git pull https://github.com/bblais/Computer-Programming-For-the-Sciences-Spring-2020 \n",
    "        else:\n",
    "            !cd Computer-Programming-For-the-Sciences-Spring-2020; git pull https://github.com/bblais/Computer-Programming-For-the-Sciences-Spring-2020 \n",
    "        "
   ]
  },
  {
   "cell_type": "code",
   "execution_count": 2,
   "metadata": {},
   "outputs": [
    {
     "name": "stdout",
     "output_type": "stream",
     "text": [
      "Cloning into 'Computer-Programming-For-the-Sciences-Spring-2020'...\n",
      "remote: Enumerating objects: 117, done.\u001b[K\n",
      "remote: Counting objects: 100% (117/117), done.\u001b[K\n",
      "remote: Compressing objects: 100% (87/87), done.\u001b[K\n",
      "remote: Total 117 (delta 55), reused 85 (delta 26), pack-reused 0\u001b[K\n",
      "\u001b[KReceiving objects: 100% (117/117), 2.60 MiB | 5.61 MiB/s, done.\n",
      "\u001b[KResolving deltas: 100% (55/55), done.\n"
     ]
    }
   ],
   "source": [
    "get_course_github()"
   ]
  },
  {
   "cell_type": "markdown",
   "metadata": {},
   "source": [
    "# Pyndamics"
   ]
  },
  {
   "cell_type": "code",
   "execution_count": 3,
   "metadata": {},
   "outputs": [
    {
     "name": "stdout",
     "output_type": "stream",
     "text": [
      "Collecting git+git://github.com/bblais/pyndamics\n",
      "  Cloning git://github.com/bblais/pyndamics to /Users/bblais/tmp/pip-req-build-9sspizla\n",
      "  Running command git clone -q git://github.com/bblais/pyndamics /Users/bblais/tmp/pip-req-build-9sspizla\n",
      "Building wheels for collected packages: pyndamics\n",
      "  Building wheel for pyndamics (setup.py) ... \u001b[?25ldone\n",
      "\u001b[?25h  Created wheel for pyndamics: filename=pyndamics-0.0.8-py3-none-any.whl size=22769 sha256=466581480384c0493792c28cbcba18b53cc8c0801dcb9e580cee55eee5d76300\n",
      "  Stored in directory: /Users/bblais/tmp/pip-ephem-wheel-cache-gn8ip_ki/wheels/86/33/a1/c8dad4f3eee6be021be060d8db4be81a102072d9b434ec7c52\n",
      "Successfully built pyndamics\n",
      "Installing collected packages: pyndamics\n",
      "  Attempting uninstall: pyndamics\n",
      "    Found existing installation: pyndamics 0.0.8\n",
      "    Uninstalling pyndamics-0.0.8:\n",
      "      Successfully uninstalled pyndamics-0.0.8\n",
      "Successfully installed pyndamics-0.0.8\n",
      "Note: you may need to restart the kernel to use updated packages.\n"
     ]
    }
   ],
   "source": [
    "pip install \"git+git://github.com/bblais/pyndamics\" --upgrade"
   ]
  },
  {
   "cell_type": "markdown",
   "metadata": {},
   "source": [
    "# Emcee"
   ]
  },
  {
   "cell_type": "code",
   "execution_count": 4,
   "metadata": {},
   "outputs": [
    {
     "name": "stdout",
     "output_type": "stream",
     "text": [
      "Collecting emcee\n",
      "  Downloading emcee-3.0.2-py2.py3-none-any.whl (41 kB)\n",
      "\u001b[K     |████████████████████████████████| 41 kB 781 kB/s eta 0:00:01\n",
      "\u001b[?25hRequirement already satisfied, skipping upgrade: numpy in /Users/bblais/opt/anaconda3/lib/python3.7/site-packages (from emcee) (1.18.1)\n",
      "Installing collected packages: emcee\n",
      "  Attempting uninstall: emcee\n",
      "    Found existing installation: emcee 0.0.0\n",
      "    Uninstalling emcee-0.0.0:\n",
      "      Successfully uninstalled emcee-0.0.0\n",
      "Successfully installed emcee-3.0.2\n",
      "Note: you may need to restart the kernel to use updated packages.\n"
     ]
    }
   ],
   "source": [
    "pip install -U emcee"
   ]
  },
  {
   "cell_type": "markdown",
   "metadata": {},
   "source": [
    "# SIE"
   ]
  },
  {
   "cell_type": "code",
   "execution_count": 6,
   "metadata": {},
   "outputs": [
    {
     "name": "stdout",
     "output_type": "stream",
     "text": [
      "Collecting sie\n",
      "  Cloning git://github.com/bblais/Statistical-Inference-for-Everyone to /Users/bblais/tmp/pip-install-vkipb8v3/sie\n",
      "  Running command git clone -q git://github.com/bblais/Statistical-Inference-for-Everyone /Users/bblais/tmp/pip-install-vkipb8v3/sie\n",
      "Building wheels for collected packages: sie\n",
      "  Building wheel for sie (setup.py) ... \u001b[?25ldone\n",
      "\u001b[?25h  Created wheel for sie: filename=sie-0.0.8-py3-none-any.whl size=13348 sha256=ab3f3039f4647c67a74240257fca4f63873bf9536c3da654a1afffdc140a9f75\n",
      "  Stored in directory: /Users/bblais/tmp/pip-ephem-wheel-cache-vzr61_27/wheels/24/4f/9e/df3f558b8f615c97e01eb1d3c58a1ff90af34f54016e75186b\n",
      "Successfully built sie\n",
      "Installing collected packages: sie\n",
      "Successfully installed sie-0.0.8\n",
      "Note: you may need to restart the kernel to use updated packages.\n"
     ]
    }
   ],
   "source": [
    "pip install \"git+git://github.com/bblais/Statistical-Inference-for-Everyone#egg=sie&subdirectory=python/sie\" --upgrade "
   ]
  },
  {
   "cell_type": "code",
   "execution_count": 4,
   "metadata": {},
   "outputs": [
    {
     "name": "stdout",
     "output_type": "stream",
     "text": [
      "pyndamics version  0.0.8\n"
     ]
    }
   ],
   "source": [
    "import pyndamics"
   ]
  },
  {
   "cell_type": "code",
   "execution_count": 5,
   "metadata": {},
   "outputs": [
    {
     "data": {
      "text/plain": [
       "'/Users/bblais/opt/anaconda3/lib/python3.7/site-packages/pyndamics/__init__.py'"
      ]
     },
     "execution_count": 5,
     "metadata": {},
     "output_type": "execute_result"
    }
   ],
   "source": [
    "pyndamics.__file__"
   ]
  },
  {
   "cell_type": "code",
   "execution_count": 13,
   "metadata": {},
   "outputs": [],
   "source": [
    "import sie"
   ]
  },
  {
   "cell_type": "code",
   "execution_count": null,
   "metadata": {},
   "outputs": [],
   "source": []
  }
 ],
 "metadata": {
  "kernelspec": {
   "display_name": "Python 3",
   "language": "python",
   "name": "python3"
  },
  "language_info": {
   "codemirror_mode": {
    "name": "ipython",
    "version": 3
   },
   "file_extension": ".py",
   "mimetype": "text/x-python",
   "name": "python",
   "nbconvert_exporter": "python",
   "pygments_lexer": "ipython3",
   "version": "3.7.6"
  }
 },
 "nbformat": 4,
 "nbformat_minor": 4
}
